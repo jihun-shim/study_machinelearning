{
 "cells": [
  {
   "cell_type": "markdown",
   "metadata": {},
   "source": [
    "- preprocess, dataset 분할 통한 평가 검증\n",
    "- 결측치 채울 때 최소 1컬럼은 머신러닝\n",
    "- 배포와 서비스(최소 2개 범주형 컬럼 포함)\n",
    "\n",
    "gpt 복붙 집에가서 해볼것"
   ]
  },
  {
   "cell_type": "code",
   "execution_count": 1,
   "metadata": {},
   "outputs": [],
   "source": [
    "# 1. 필요한 라이브러리 불러오기\n",
    "import sklearn as sk\n",
    "import pandas as pd\n",
    "import numpy as np\n",
    "from sklearn.svm import SVR\n",
    "from sklearn.model_selection import train_test_split\n",
    "from sklearn.metrics import mean_squared_error, r2_score\n",
    "from sklearn.linear_model import LinearRegression\n",
    "from sklearn.preprocessing import StandardScaler\n",
    "from sklearn.ensemble import RandomForestRegressor\n",
    "from sklearn.preprocessing import LabelEncoder\n",
    "# 연속형 데이터와 범주형 데이터 전처리\n",
    "from sklearn.preprocessing import StandardScaler, OneHotEncoder\n",
    "from sklearn.compose import ColumnTransformer\n",
    "from sklearn.pipeline import Pipeline\n",
    "from sklearn.linear_model import LogisticRegression\n",
    "from sklearn.metrics import accuracy_score, classification_report\n",
    "import pickle"
   ]
  },
  {
   "cell_type": "code",
   "execution_count": null,
   "metadata": {},
   "outputs": [],
   "source": [
    "save_file_name='../../files/titanic_disaster.pkl' # 모델을 저장할 파일이름\n",
    "preprocessor_file_name='../../files/titanic_preprocessor.pkl' # 전처리기를 저장할 파일이름"
   ]
  },
  {
   "cell_type": "code",
   "execution_count": null,
   "metadata": {},
   "outputs": [],
   "source": [
    "# 1. 저장된 모델 불러오기\n",
    "with open(model_filename, 'rb') as model_file:\n",
    "    loaded_model = pickle.load(model_file)\n",
    "\n",
    "# 2. 저장된 전처리기 불러오기\n",
    "with open(preprocessor_filename, 'rb') as preprocessor_file:\n",
    "    loaded_preprocessor = pickle.load(preprocessor_file)\n",
    "\n",
    "# 3. 새로운 데이터를 예측할 때는 먼저 전처리 후 모델로 예측\n",
    "# 예시로 새로운 데이터 `new_data`가 있다고 가정\n",
    "new_data = X_test.iloc[0:5]  # X_test에서 첫 5개의 데이터를 예로 들어봄\n",
    "\n",
    "# 4. 전처리 적용\n",
    "processed_data = loaded_preprocessor.transform(new_data)\n",
    "\n",
    "# 5. 모델 예측\n",
    "predictions = loaded_model.predict(processed_data)\n",
    "\n",
    "print(\"예측 결과:\", predictions)"
   ]
  },
  {
   "cell_type": "code",
   "execution_count": null,
   "metadata": {},
   "outputs": [],
   "source": []
  }
 ],
 "metadata": {
  "kernelspec": {
   "display_name": "Python 3",
   "language": "python",
   "name": "python3"
  },
  "language_info": {
   "codemirror_mode": {
    "name": "ipython",
    "version": 3
   },
   "file_extension": ".py",
   "mimetype": "text/x-python",
   "name": "python",
   "nbconvert_exporter": "python",
   "pygments_lexer": "ipython3",
   "version": "3.8.10"
  }
 },
 "nbformat": 4,
 "nbformat_minor": 2
}
