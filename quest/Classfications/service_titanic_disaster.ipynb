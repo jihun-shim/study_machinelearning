{
 "cells": [
  {
   "cell_type": "markdown",
   "metadata": {},
   "source": [
    "- preprocess, dataset 분할 통한 평가 검증\n",
    "- 결측치 채울 때 최소 1컬럼은 머신러닝\n",
    "- 배포와 서비스(최소 2개 범주형 컬럼 포함)"
   ]
  },
  {
   "cell_type": "markdown",
   "metadata": {},
   "source": []
  }
 ],
 "metadata": {
  "language_info": {
   "name": "python"
  }
 },
 "nbformat": 4,
 "nbformat_minor": 2
}
