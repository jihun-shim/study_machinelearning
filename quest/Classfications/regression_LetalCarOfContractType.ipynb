{
 "cells": [
  {
   "cell_type": "code",
   "execution_count": 59,
   "metadata": {},
   "outputs": [],
   "source": [
    "# 1. 필요한 라이브러리 불러오기\n",
    "import sklearn as sk\n",
    "import pandas as pd\n",
    "import numpy as np\n",
    "from sklearn.svm import SVR\n",
    "from sklearn.model_selection import train_test_split\n",
    "from sklearn.metrics import mean_squared_error, r2_score\n",
    "from sklearn.linear_model import LinearRegression\n",
    "from sklearn.preprocessing import StandardScaler\n",
    "from sklearn.ensemble import RandomForestRegressor\n",
    "from sklearn.preprocessing import LabelEncoder\n",
    "# 연속형 데이터와 범주형 데이터 전처리\n",
    "from sklearn.preprocessing import StandardScaler, OneHotEncoder\n",
    "from sklearn.compose import ColumnTransformer\n",
    "from sklearn.pipeline import Pipeline\n",
    "from sklearn.linear_model import LogisticRegression\n",
    "from sklearn.metrics import accuracy_score, classification_report\n",
    "from sklearn.svm import SVC\n",
    "from sklearn.ensemble import RandomForestClassifier\n",
    "import pickle"
   ]
  },
  {
   "cell_type": "code",
   "execution_count": 60,
   "metadata": {},
   "outputs": [
    {
     "data": {
      "text/html": [
       "<div>\n",
       "<style scoped>\n",
       "    .dataframe tbody tr th:only-of-type {\n",
       "        vertical-align: middle;\n",
       "    }\n",
       "\n",
       "    .dataframe tbody tr th {\n",
       "        vertical-align: top;\n",
       "    }\n",
       "\n",
       "    .dataframe thead th {\n",
       "        text-align: right;\n",
       "    }\n",
       "</style>\n",
       "<table border=\"1\" class=\"dataframe\">\n",
       "  <thead>\n",
       "    <tr style=\"text-align: right;\">\n",
       "      <th></th>\n",
       "      <th>id</th>\n",
       "      <th>type_of_contract</th>\n",
       "      <th>type_of_contract2</th>\n",
       "      <th>channel</th>\n",
       "      <th>datetime</th>\n",
       "      <th>Term</th>\n",
       "      <th>payment_type</th>\n",
       "      <th>product</th>\n",
       "      <th>amount</th>\n",
       "      <th>state</th>\n",
       "      <th>overdue_count</th>\n",
       "      <th>overdue</th>\n",
       "      <th>credit rating</th>\n",
       "      <th>bank</th>\n",
       "      <th>cancellation</th>\n",
       "      <th>age</th>\n",
       "      <th>Mileage</th>\n",
       "    </tr>\n",
       "  </thead>\n",
       "  <tbody>\n",
       "    <tr>\n",
       "      <th>0</th>\n",
       "      <td>66758234</td>\n",
       "      <td>렌탈</td>\n",
       "      <td>Normal</td>\n",
       "      <td>서비스 방문</td>\n",
       "      <td>2019-10-20</td>\n",
       "      <td>60</td>\n",
       "      <td>CMS</td>\n",
       "      <td>K1</td>\n",
       "      <td>96900</td>\n",
       "      <td>계약확정</td>\n",
       "      <td>0</td>\n",
       "      <td>없음</td>\n",
       "      <td>9.0</td>\n",
       "      <td>새마을금고</td>\n",
       "      <td>정상</td>\n",
       "      <td>43.0</td>\n",
       "      <td>1862.0</td>\n",
       "    </tr>\n",
       "    <tr>\n",
       "      <th>1</th>\n",
       "      <td>66755948</td>\n",
       "      <td>렌탈</td>\n",
       "      <td>Extension_Rental</td>\n",
       "      <td>서비스 방문</td>\n",
       "      <td>2019-10-20</td>\n",
       "      <td>60</td>\n",
       "      <td>카드이체</td>\n",
       "      <td>K1</td>\n",
       "      <td>102900</td>\n",
       "      <td>계약확정</td>\n",
       "      <td>0</td>\n",
       "      <td>없음</td>\n",
       "      <td>2.0</td>\n",
       "      <td>현대카드</td>\n",
       "      <td>정상</td>\n",
       "      <td>62.0</td>\n",
       "      <td>2532.0</td>\n",
       "    </tr>\n",
       "    <tr>\n",
       "      <th>2</th>\n",
       "      <td>66756657</td>\n",
       "      <td>렌탈</td>\n",
       "      <td>Normal</td>\n",
       "      <td>홈쇼핑/방송</td>\n",
       "      <td>2019-10-20</td>\n",
       "      <td>60</td>\n",
       "      <td>CMS</td>\n",
       "      <td>K1</td>\n",
       "      <td>96900</td>\n",
       "      <td>계약확정</td>\n",
       "      <td>0</td>\n",
       "      <td>없음</td>\n",
       "      <td>8.0</td>\n",
       "      <td>우리은행</td>\n",
       "      <td>정상</td>\n",
       "      <td>60.0</td>\n",
       "      <td>2363.0</td>\n",
       "    </tr>\n",
       "  </tbody>\n",
       "</table>\n",
       "</div>"
      ],
      "text/plain": [
       "         id type_of_contract type_of_contract2 channel    datetime  Term  \\\n",
       "0  66758234               렌탈            Normal  서비스 방문  2019-10-20    60   \n",
       "1  66755948               렌탈  Extension_Rental  서비스 방문  2019-10-20    60   \n",
       "2  66756657               렌탈            Normal  홈쇼핑/방송  2019-10-20    60   \n",
       "\n",
       "  payment_type product  amount state  overdue_count overdue  credit rating  \\\n",
       "0          CMS      K1   96900  계약확정              0      없음            9.0   \n",
       "1         카드이체      K1  102900  계약확정              0      없음            2.0   \n",
       "2          CMS      K1   96900  계약확정              0      없음            8.0   \n",
       "\n",
       "    bank cancellation   age  Mileage  \n",
       "0  새마을금고           정상  43.0   1862.0  \n",
       "1   현대카드           정상  62.0   2532.0  \n",
       "2   우리은행           정상  60.0   2363.0  "
      ]
     },
     "execution_count": 60,
     "metadata": {},
     "output_type": "execute_result"
    }
   ],
   "source": [
    "# 데이터 불러오기\n",
    "letal_car = pd.read_csv('../../datasets/LetalCarOfContractType.csv')\n",
    "letal_car.head(3)"
   ]
  },
  {
   "cell_type": "code",
   "execution_count": 77,
   "metadata": {},
   "outputs": [
    {
     "name": "stdout",
     "output_type": "stream",
     "text": [
      "<class 'pandas.core.frame.DataFrame'>\n",
      "RangeIndex: 0 entries\n",
      "Columns: 51304 entries, 96900 to 96900\n",
      "dtypes: object(51304)\n",
      "memory usage: 124.0+ bytes\n"
     ]
    }
   ],
   "source": [
    "letal_car.info()"
   ]
  },
  {
   "cell_type": "code",
   "execution_count": 62,
   "metadata": {},
   "outputs": [
    {
     "data": {
      "text/plain": [
       "id                       0\n",
       "type_of_contract         4\n",
       "type_of_contract2        1\n",
       "channel                  0\n",
       "datetime                 0\n",
       "Term                     0\n",
       "payment_type             0\n",
       "product                  1\n",
       "amount                   0\n",
       "state                    0\n",
       "overdue_count            0\n",
       "overdue                  2\n",
       "credit rating         8783\n",
       "bank                  2760\n",
       "cancellation            25\n",
       "age                  10795\n",
       "Mileage              10795\n",
       "dtype: int64"
      ]
     },
     "execution_count": 62,
     "metadata": {},
     "output_type": "execute_result"
    }
   ],
   "source": [
    "# 결측치 확인\n",
    "letal_car[['id','type_of_contract','type_of_contract2','channel'\n",
    "           ,'datetime','Term','payment_type','product','amount','state'\n",
    "           ,'overdue_count','overdue','credit rating','bank'\n",
    "           ,'cancellation','age','Mileage']].isna().sum()"
   ]
  },
  {
   "cell_type": "code",
   "execution_count": 63,
   "metadata": {},
   "outputs": [],
   "source": [
    "# 결측치 처리\n",
    "\n",
    "# object형은 최빈값으로\n",
    "letal_car['type_of_contract'] = letal_car['type_of_contract'].fillna(letal_car['type_of_contract'].mode()[0])\n",
    "letal_car['type_of_contract2'] = letal_car['type_of_contract2'].fillna(letal_car['type_of_contract2'].mode()[0])\n",
    "letal_car['product'] = letal_car['product'].fillna(letal_car['product'].mode()[0])\n",
    "letal_car['overdue'] = letal_car['overdue'].fillna(letal_car['overdue'].mode()[0])\n",
    "letal_car['bank'] = letal_car['bank'].fillna(letal_car['bank'].mode()[0])\n",
    "letal_car['cancellation'] = letal_car['cancellation'].fillna(letal_car['cancellation'].mode()[0])\n",
    "\n",
    "# float형은 평균값으로\n",
    "letal_car['age'] = letal_car['age'].fillna(letal_car['age'].mean())\n",
    "letal_car['Mileage'] = letal_car['Mileage'].fillna(letal_car['Mileage'].mean())\n",
    "letal_car['credit rating'] = letal_car['credit rating'].fillna(letal_car['credit rating'].mean())\n",
    "\n",
    "# 결측치 처리시에는 반드시 새 데이터프레임에 넣거나 inplace = True 를 할 것"
   ]
  },
  {
   "cell_type": "code",
   "execution_count": 64,
   "metadata": {},
   "outputs": [
    {
     "data": {
      "text/plain": [
       "id                   0\n",
       "type_of_contract     0\n",
       "type_of_contract2    0\n",
       "channel              0\n",
       "datetime             0\n",
       "Term                 0\n",
       "payment_type         0\n",
       "product              0\n",
       "amount               0\n",
       "state                0\n",
       "overdue_count        0\n",
       "overdue              0\n",
       "credit rating        0\n",
       "bank                 0\n",
       "cancellation         0\n",
       "age                  0\n",
       "Mileage              0\n",
       "dtype: int64"
      ]
     },
     "execution_count": 64,
     "metadata": {},
     "output_type": "execute_result"
    }
   ],
   "source": [
    "# 결측치 처리후 다시확인\n",
    "letal_car.isnull().sum()"
   ]
  },
  {
   "cell_type": "code",
   "execution_count": 76,
   "metadata": {},
   "outputs": [
    {
     "name": "stdout",
     "output_type": "stream",
     "text": [
      "<class 'pandas.core.frame.DataFrame'>\n",
      "RangeIndex: 0 entries\n",
      "Columns: 51304 entries, 96900 to 96900\n",
      "dtypes: object(51304)\n",
      "memory usage: 124.0+ bytes\n"
     ]
    }
   ],
   "source": [
    "letal_car.info()\n",
    "# 왜 NaN 값으로 나오는건지? 결측치를 잘못 채운건가"
   ]
  },
  {
   "cell_type": "code",
   "execution_count": 65,
   "metadata": {},
   "outputs": [],
   "source": [
    "# df_letal_car = pd.DataFrame(letal_car)"
   ]
  },
  {
   "cell_type": "code",
   "execution_count": 66,
   "metadata": {},
   "outputs": [],
   "source": [
    "# # 연속형과 범주형 데이터를 구분하는 함수\n",
    "# def split_category_columns(df_letal_car):\n",
    "#     continuous_columns = []\n",
    "#     categorical_columns = []\n",
    "    \n",
    "#     for column in df_letal_car.columns:\n",
    "#         # 데이터 타입 확인\n",
    "#         if df_letal_car[column].dtype in ['int64','float64']:\n",
    "#             unique_ratio = df_letal_car[column].nunique() / len(df_letal_car) # 고유값 비율 계산\n",
    "            \n",
    "#             if unique_ratio < 0.05 and len(df_letal_car[column].unique()) != len(df_letal_car): # 고유값 비율 5% 미만시 범주형으로 간주\n",
    "#                 categorical_columns.append(column)\n",
    "#             else : \n",
    "#                 continuous_columns.append(column)\n",
    "#         else : \n",
    "#             categorical_columns.append(column)\n",
    "    \n",
    "#     return continuous_columns, categorical_columns\n",
    "\n",
    "# continuous, categorical = split_category_columns(letal_car)\n",
    "\n",
    "'''\n",
    "계속되는 연속형과 범주형을 구분 못하는 현상 의미없는 작업이라 판단 주석처리\n",
    "'''"
   ]
  },
  {
   "cell_type": "code",
   "execution_count": 67,
   "metadata": {},
   "outputs": [],
   "source": [
    "# # 연속형 확인\n",
    "# continuous_data = letal_car[continuous]\n",
    "# # .select_dtypes(include = ['int64','float64'])\n",
    "# # continuous_data = continuous_data.fillna(0)  # 결측값을 0으로 대체 (필요에 따라 평균값 사용 가능)\n",
    "# continuous_data"
   ]
  },
  {
   "cell_type": "code",
   "execution_count": 68,
   "metadata": {},
   "outputs": [],
   "source": [
    "# # 범주형 확인\n",
    "# categorical_data = letal_car[categorical]\n",
    "# categorical_data"
   ]
  },
  {
   "cell_type": "code",
   "execution_count": 69,
   "metadata": {},
   "outputs": [],
   "source": [
    "# # 언속형 데이터 스케일링\n",
    "# standardScaler = StandardScaler()\n",
    "# standardScaler.fit_transform(continuous_data)\n",
    "# standardScaler"
   ]
  },
  {
   "cell_type": "code",
   "execution_count": 70,
   "metadata": {},
   "outputs": [
    {
     "data": {
      "text/plain": [
       "(pandas.core.series.Series, (51304,), dtype('O'))"
      ]
     },
     "execution_count": 70,
     "metadata": {},
     "output_type": "execute_result"
    }
   ],
   "source": [
    "# featrue data\n",
    "type(letal_car['datetime']), letal_car['datetime'].shape, letal_car['datetime'].dtype"
   ]
  },
  {
   "cell_type": "code",
   "execution_count": 71,
   "metadata": {},
   "outputs": [
    {
     "data": {
      "text/plain": [
       "(pandas.core.series.Series, (51304,), dtype('int64'))"
      ]
     },
     "execution_count": 71,
     "metadata": {},
     "output_type": "execute_result"
    }
   ],
   "source": [
    "# label data\n",
    "type(letal_car['amount']), letal_car['amount'].shape, letal_car['amount'].dtype"
   ]
  },
  {
   "cell_type": "code",
   "execution_count": 72,
   "metadata": {},
   "outputs": [
    {
     "data": {
      "text/html": [
       "<div>\n",
       "<style scoped>\n",
       "    .dataframe tbody tr th:only-of-type {\n",
       "        vertical-align: middle;\n",
       "    }\n",
       "\n",
       "    .dataframe tbody tr th {\n",
       "        vertical-align: top;\n",
       "    }\n",
       "\n",
       "    .dataframe thead th {\n",
       "        text-align: right;\n",
       "    }\n",
       "</style>\n",
       "<table border=\"1\" class=\"dataframe\">\n",
       "  <thead>\n",
       "    <tr style=\"text-align: right;\">\n",
       "      <th>amount</th>\n",
       "      <th>96900</th>\n",
       "      <th>102900</th>\n",
       "      <th>96900</th>\n",
       "      <th>66900</th>\n",
       "      <th>66900</th>\n",
       "      <th>90900</th>\n",
       "      <th>98400</th>\n",
       "      <th>80400</th>\n",
       "      <th>102900</th>\n",
       "      <th>105900</th>\n",
       "      <th>...</th>\n",
       "      <th>96900</th>\n",
       "      <th>120900</th>\n",
       "      <th>96900</th>\n",
       "      <th>96900</th>\n",
       "      <th>56979</th>\n",
       "      <th>96900</th>\n",
       "      <th>96900</th>\n",
       "      <th>120900</th>\n",
       "      <th>96900</th>\n",
       "      <th>96900</th>\n",
       "    </tr>\n",
       "  </thead>\n",
       "  <tbody>\n",
       "  </tbody>\n",
       "</table>\n",
       "<p>0 rows × 51304 columns</p>\n",
       "</div>"
      ],
      "text/plain": [
       "Empty DataFrame\n",
       "Columns: [96900, 102900, 96900, 66900, 66900, 90900, 98400, 80400, 102900, 105900, 81900, 81900, 90900, 96900, 90900, 66900, 66900, 105900, 66900, 111900, 96900, 87900, 134700, 66900, 105900, 66900, 96900, 66900, 66900, 142200, 96900, 96900, 102900, 90900, 96600, 96900, 142200, 96900, 96900, 105900, 105900, 96900, 96900, 96900, 66900, 98400, 80400, 96900, 98400, 80400, 90900, 96900, 96900, 96900, 105900, 96900, 81900, 81900, 126900, 90900, 96900, 66900, 105900, 105900, 105900, 96900, 96900, 96900, 81900, 81900, 96900, 96900, 90900, 81900, 81900, 124200, 102900, 102900, 96900, 105900, 124200, 102900, 124200, 102900, 124200, 96900, 96900, 111900, 105900, 90900, 96900, 96900, 90900, 96900, 96900, 96900, 75900, 81900, 81900, 96900, ...]\n",
       "Index: []\n",
       "\n",
       "[0 rows x 51304 columns]"
      ]
     },
     "execution_count": 72,
     "metadata": {},
     "output_type": "execute_result"
    }
   ],
   "source": [
    "# feature 처리\n",
    "letal_car = pd.DataFrame(data = letal_car['datetime']\n",
    "                         , columns = letal_car['amount'])\n",
    "letal_car.head(2)"
   ]
  },
  {
   "cell_type": "code",
   "execution_count": null,
   "metadata": {},
   "outputs": [],
   "source": []
  }
 ],
 "metadata": {
  "kernelspec": {
   "display_name": "Python 3",
   "language": "python",
   "name": "python3"
  },
  "language_info": {
   "codemirror_mode": {
    "name": "ipython",
    "version": 3
   },
   "file_extension": ".py",
   "mimetype": "text/x-python",
   "name": "python",
   "nbconvert_exporter": "python",
   "pygments_lexer": "ipython3",
   "version": "3.8.10"
  }
 },
 "nbformat": 4,
 "nbformat_minor": 2
}
